{
 "cells": [
  {
   "cell_type": "markdown",
   "metadata": {},
   "source": [
    "\n",
    "This program required you too have both latest R and python installed on your computer. Make sure that R environment has DESeq2, edgeR, limma, Biobase and other libaries that appear below installed. Also have modules such as panda, matplotlib, seaborn, rpy2 etc. are installed on python."
   ]
  },
  {
   "cell_type": "code",
   "execution_count": 1,
   "metadata": {},
   "outputs": [],
   "source": [
    "#!pip install bioinfokit\n",
    "#!pip install rpy2\n",
    "#!pip install ipyparallel  \n",
    "#!conda install tensorflow"
   ]
  },
  {
   "cell_type": "markdown",
   "metadata": {},
   "source": [
    "import the python modules"
   ]
  },
  {
   "cell_type": "code",
   "execution_count": 3,
   "metadata": {
    "scrolled": true
   },
   "outputs": [],
   "source": [
    "import pandas as pd\n",
    "import matplotlib as plt\n",
    "import seaborn as sns\n"
   ]
  },
  {
   "cell_type": "markdown",
   "metadata": {},
   "source": [
    "importing rpy2 objects in python"
   ]
  },
  {
   "cell_type": "code",
   "execution_count": 4,
   "metadata": {},
   "outputs": [],
   "source": [
    "import rpy2\n",
    "import rpy2.robjects as robjects\n",
    "import rpy2.robjects.packages as rpackages\n",
    "from rpy2.robjects.vectors import StrVector\n",
    "\n",
    "\n",
    "\n"
   ]
  },
  {
   "cell_type": "code",
   "execution_count": 5,
   "metadata": {},
   "outputs": [],
   "source": [
    "\n",
    "from rpy2.robjects.packages import importr\n",
    "# import R's \"base\" package\n",
    "base = importr('base')\n",
    "\n",
    "# import R's \"utils\" package\n",
    "utils = importr('utils')\n",
    "\n",
    "# import rpy2's package module\n",
    "import rpy2.robjects.packages as rpackages\n",
    "\n",
    "# import R's utility package\n",
    "utils = rpackages.importr('utils')\n",
    "\n",
    "# select a mirror for R packages\n",
    "utils.chooseCRANmirror(ind=1) # select the first mirror in the list\n",
    "#%Rdevice png\n",
    "%load_ext rpy2.ipython\n",
    "\n",
    "\n"
   ]
  },
  {
   "cell_type": "markdown",
   "metadata": {},
   "source": [
    "Let us now load the R libraries"
   ]
  },
  {
   "cell_type": "code",
   "execution_count": 6,
   "metadata": {},
   "outputs": [
    {
     "name": "stderr",
     "output_type": "stream",
     "text": [
      "R[write to console]: Loading required package: S4Vectors\n",
      "\n",
      "R[write to console]: Loading required package: stats4\n",
      "\n",
      "R[write to console]: Loading required package: BiocGenerics\n",
      "\n",
      "R[write to console]: Loading required package: parallel\n",
      "\n",
      "R[write to console]: \n",
      "Attaching package: ‘BiocGenerics’\n",
      "\n",
      "\n",
      "R[write to console]: The following objects are masked from ‘package:parallel’:\n",
      "\n",
      "    clusterApply, clusterApplyLB, clusterCall, clusterEvalQ,\n",
      "    clusterExport, clusterMap, parApply, parCapply, parLapply,\n",
      "    parLapplyLB, parRapply, parSapply, parSapplyLB\n",
      "\n",
      "\n",
      "R[write to console]: The following objects are masked from ‘package:stats’:\n",
      "\n",
      "    IQR, mad, sd, var, xtabs\n",
      "\n",
      "\n",
      "R[write to console]: The following objects are masked from ‘package:base’:\n",
      "\n",
      "    anyDuplicated, append, as.data.frame, basename, cbind, colnames,\n",
      "    dirname, do.call, duplicated, eval, evalq, Filter, Find, get, grep,\n",
      "    grepl, intersect, is.unsorted, lapply, Map, mapply, match, mget,\n",
      "    order, paste, pmax, pmax.int, pmin, pmin.int, Position, rank,\n",
      "    rbind, Reduce, rownames, sapply, setdiff, sort, table, tapply,\n",
      "    union, unique, unsplit, which.max, which.min\n",
      "\n",
      "\n",
      "R[write to console]: \n",
      "Attaching package: ‘S4Vectors’\n",
      "\n",
      "\n",
      "R[write to console]: The following object is masked from ‘package:base’:\n",
      "\n",
      "    expand.grid\n",
      "\n",
      "\n",
      "R[write to console]: Loading required package: IRanges\n",
      "\n",
      "R[write to console]: Loading required package: GenomicRanges\n",
      "\n",
      "R[write to console]: Loading required package: GenomeInfoDb\n",
      "\n",
      "R[write to console]: Loading required package: SummarizedExperiment\n",
      "\n",
      "R[write to console]: Loading required package: MatrixGenerics\n",
      "\n",
      "R[write to console]: Loading required package: matrixStats\n",
      "\n",
      "R[write to console]: \n",
      "Attaching package: ‘MatrixGenerics’\n",
      "\n",
      "\n",
      "R[write to console]: The following objects are masked from ‘package:matrixStats’:\n",
      "\n",
      "    colAlls, colAnyNAs, colAnys, colAvgsPerRowSet, colCollapse,\n",
      "    colCounts, colCummaxs, colCummins, colCumprods, colCumsums,\n",
      "    colDiffs, colIQRDiffs, colIQRs, colLogSumExps, colMadDiffs,\n",
      "    colMads, colMaxs, colMeans2, colMedians, colMins, colOrderStats,\n",
      "    colProds, colQuantiles, colRanges, colRanks, colSdDiffs, colSds,\n",
      "    colSums2, colTabulates, colVarDiffs, colVars, colWeightedMads,\n",
      "    colWeightedMeans, colWeightedMedians, colWeightedSds,\n",
      "    colWeightedVars, rowAlls, rowAnyNAs, rowAnys, rowAvgsPerColSet,\n",
      "    rowCollapse, rowCounts, rowCummaxs, rowCummins, rowCumprods,\n",
      "    rowCumsums, rowDiffs, rowIQRDiffs, rowIQRs, rowLogSumExps,\n",
      "    rowMadDiffs, rowMads, rowMaxs, rowMeans2, rowMedians, rowMins,\n",
      "    rowOrderStats, rowProds, rowQuantiles, rowRanges, rowRanks,\n",
      "    rowSdDiffs, rowSds, rowSums2, rowTabulates, rowVarDiffs, rowVars,\n",
      "    rowWeightedMads, rowWeightedMeans, rowWeightedMedians,\n",
      "    rowWeightedSds, rowWeightedVars\n",
      "\n",
      "\n",
      "R[write to console]: Loading required package: Biobase\n",
      "\n",
      "R[write to console]: Welcome to Bioconductor\n",
      "\n",
      "    Vignettes contain introductory material; view with\n",
      "    'browseVignettes()'. To cite Bioconductor, see\n",
      "    'citation(\"Biobase\")', and for packages 'citation(\"pkgname\")'.\n",
      "\n",
      "\n",
      "R[write to console]: \n",
      "Attaching package: ‘Biobase’\n",
      "\n",
      "\n",
      "R[write to console]: The following object is masked from ‘package:MatrixGenerics’:\n",
      "\n",
      "    rowMedians\n",
      "\n",
      "\n",
      "R[write to console]: The following objects are masked from ‘package:matrixStats’:\n",
      "\n",
      "    anyMissing, rowMedians\n",
      "\n",
      "\n",
      "R[write to console]: Loading required package: limma\n",
      "\n",
      "R[write to console]: \n",
      "Attaching package: ‘limma’\n",
      "\n",
      "\n",
      "R[write to console]: The following object is masked from ‘package:DESeq2’:\n",
      "\n",
      "    plotMA\n",
      "\n",
      "\n",
      "R[write to console]: The following object is masked from ‘package:BiocGenerics’:\n",
      "\n",
      "    plotMA\n",
      "\n",
      "\n",
      "R[write to console]: \n",
      "Attaching package: ‘dplyr’\n",
      "\n",
      "\n",
      "R[write to console]: The following object is masked from ‘package:Biobase’:\n",
      "\n",
      "    combine\n",
      "\n",
      "\n",
      "R[write to console]: The following object is masked from ‘package:matrixStats’:\n",
      "\n",
      "    count\n",
      "\n",
      "\n",
      "R[write to console]: The following objects are masked from ‘package:GenomicRanges’:\n",
      "\n",
      "    intersect, setdiff, union\n",
      "\n",
      "\n",
      "R[write to console]: The following object is masked from ‘package:GenomeInfoDb’:\n",
      "\n",
      "    intersect\n",
      "\n",
      "\n",
      "R[write to console]: The following objects are masked from ‘package:IRanges’:\n",
      "\n",
      "    collapse, desc, intersect, setdiff, slice, union\n",
      "\n",
      "\n",
      "R[write to console]: The following objects are masked from ‘package:S4Vectors’:\n",
      "\n",
      "    first, intersect, rename, setdiff, setequal, union\n",
      "\n",
      "\n",
      "R[write to console]: The following objects are masked from ‘package:BiocGenerics’:\n",
      "\n",
      "    combine, intersect, setdiff, union\n",
      "\n",
      "\n",
      "R[write to console]: The following objects are masked from ‘package:stats’:\n",
      "\n",
      "    filter, lag\n",
      "\n",
      "\n",
      "R[write to console]: The following objects are masked from ‘package:base’:\n",
      "\n",
      "    intersect, setdiff, setequal, union\n",
      "\n",
      "\n"
     ]
    }
   ],
   "source": [
    "%%R\n",
    "\n",
    "    library(DESeq2)\n",
    "    library(edgeR)\n",
    "    library(limma)\n",
    "    library(Biobase)\n",
    "    library(dplyr)"
   ]
  },
  {
   "cell_type": "markdown",
   "metadata": {},
   "source": [
    "Now you have to provide the file path where the data is loaded. "
   ]
  },
  {
   "cell_type": "code",
   "execution_count": 7,
   "metadata": {},
   "outputs": [
    {
     "name": "stdout",
     "output_type": "stream",
     "text": [
      "ExpressionSet (storageMode: lockedEnvironment)\n",
      "assayData: 52580 features, 6 samples \n",
      "  element names: exprs \n",
      "protocolData: none\n",
      "phenoData\n",
      "  sampleNames: SRX014818and9 SRX014820and1 ... SRX014828and9 (6 total)\n",
      "  varLabels: sample.id num.tech.reps gender\n",
      "  varMetadata: labelDescription\n",
      "featureData\n",
      "  featureNames: ENSG00000000003 ENSG00000000005 ... LRG_99 (52580\n",
      "    total)\n",
      "  fvarLabels: gene\n",
      "  fvarMetadata: labelDescription\n",
      "experimentData: use 'experimentData(object)'\n",
      "Annotation:  \n"
     ]
    }
   ],
   "source": [
    "%%R       \n",
    "        load(\"/home/srivastava/Documents/HTSeq_Example/gilad_eset.RData\")\n",
    "        data <- gilad.eset\n",
    "        head(data)\n",
    "        print(data)\n"
   ]
  },
  {
   "cell_type": "code",
   "execution_count": 8,
   "metadata": {},
   "outputs": [],
   "source": [
    "%%R\n",
    "        cpm.mat <- log(cpm(exprs(data)))\n",
    "        mean.vec <- apply(cpm.mat, 1, mean)\n",
    "        sdvec <- apply(cpm.mat, 1, sd)\n",
    "\n",
    "#%R ('cpm.mat %>% head()')\n",
    "\n",
    "\n"
   ]
  },
  {
   "cell_type": "markdown",
   "metadata": {},
   "source": [
    "Next we would make a sd vs average logCPM plot"
   ]
  },
  {
   "cell_type": "code",
   "execution_count": 9,
   "metadata": {},
   "outputs": [
    {
     "data": {
      "image/png": "[encoded data removed]"
     },
     "metadata": {},
     "output_type": "display_data"
    }
   ],
   "source": [
    "%R plot(mean.vec, sdvec, pch =\".\", ylab=\"sd\", xlab=\"Average logCPM\")"
   ]
  },
  {
   "cell_type": "markdown",
   "metadata": {},
   "source": [
    "Let us now make a dispersion plot"
   ]
  },
  {
   "cell_type": "code",
   "execution_count": 10,
   "metadata": {},
   "outputs": [
    {
     "name": "stderr",
     "output_type": "stream",
     "text": [
      "R[write to console]: estimating size factors\n",
      "\n",
      "R[write to console]: estimating dispersions\n",
      "\n",
      "R[write to console]: gene-wise dispersion estimates\n",
      "\n",
      "R[write to console]: mean-dispersion relationship\n",
      "\n",
      "R[write to console]: final dispersion estimates\n",
      "\n",
      "R[write to console]: fitting model and testing\n",
      "\n"
     ]
    },
    {
     "data": {
      "image/png": "[encoded data removed]"
     },
     "metadata": {},
     "output_type": "display_data"
    }
   ],
   "source": [
    "%%R  \n",
    "    colnames(data)\n",
    "    dds <- DESeqDataSetFromMatrix(countData = exprs(data), colData = pData(data), design = ~gender)\n",
    "    dds <- DESeq(dds)\n",
    "    plotDispEsts(dds)"
   ]
  },
  {
   "cell_type": "code",
   "execution_count": 11,
   "metadata": {},
   "outputs": [
    {
     "name": "stdout",
     "output_type": "stream",
     "text": [
      "class: DESeqDataSet \n",
      "dim: 52580 6 \n",
      "metadata(1): version\n",
      "assays(4): counts mu H cooks\n",
      "rownames(52580): ENSG00000000003 ENSG00000000005 ... LRG_98 LRG_99\n",
      "rowData names(22): baseMean baseVar ... deviance maxCooks\n",
      "colnames(6): SRX014818and9 SRX014820and1 ... SRX014826and7\n",
      "  SRX014828and9\n",
      "colData names(4): sample.id num.tech.reps gender sizeFactor\n",
      "\n",
      "log2 fold change (MLE): gender M vs F \n",
      "Wald test p-value: gender M vs F \n",
      "DataFrame with 52580 rows and 6 columns\n",
      "                 baseMean log2FoldChange     lfcSE       stat    pvalue\n",
      "                <numeric>      <numeric> <numeric>  <numeric> <numeric>\n",
      "ENSG00000000003  38.48617      -0.636080  0.633874 -1.0034813  0.315629\n",
      "ENSG00000000005   0.00000             NA        NA         NA        NA\n",
      "ENSG00000000419  16.53149      -0.045982  0.609659 -0.0754225  0.939879\n",
      "ENSG00000000457  26.40137       0.171818  0.476003  0.3609608  0.718129\n",
      "ENSG00000000460   1.95259       0.805282  1.602610  0.5024813  0.615329\n",
      "...                   ...            ...       ...        ...       ...\n",
      "LRG_94                  0             NA        NA         NA        NA\n",
      "LRG_96                  0             NA        NA         NA        NA\n",
      "LRG_97                  0             NA        NA         NA        NA\n",
      "LRG_98                  0             NA        NA         NA        NA\n",
      "LRG_99                  0             NA        NA         NA        NA\n",
      "                     padj\n",
      "                <numeric>\n",
      "ENSG00000000003  0.999979\n",
      "ENSG00000000005        NA\n",
      "ENSG00000000419  0.999979\n",
      "ENSG00000000457  0.999979\n",
      "ENSG00000000460  0.999979\n",
      "...                   ...\n",
      "LRG_94                 NA\n",
      "LRG_96                 NA\n",
      "LRG_97                 NA\n",
      "LRG_98                 NA\n",
      "LRG_99                 NA\n",
      "\n"
     ]
    }
   ],
   "source": [
    "%R -o dds\n",
    "dds\n",
    "print(dds)\n",
    "%R ddsDF <- results(dds)\n",
    "%R -o ddsDF\n",
    "print(ddsDF)"
   ]
  },
  {
   "cell_type": "code",
   "execution_count": 12,
   "metadata": {},
   "outputs": [
    {
     "data": {
      "text/plain": [
       "pandas.core.frame.DataFrame"
      ]
     },
     "execution_count": 12,
     "metadata": {},
     "output_type": "execute_result"
    }
   ],
   "source": [
    "type(ddsDF)\n",
    "%R resultDds <- results(dds)\n",
    "%R resultDds <- as.data.frame(resultDds)\n",
    "%R -o resultDds\n",
    "type(resultDds)"
   ]
  },
  {
   "cell_type": "code",
   "execution_count": 13,
   "metadata": {},
   "outputs": [
    {
     "data": {
      "text/html": [
       "<div>\n",
       "<style scoped>\n",
       "    .dataframe tbody tr th:only-of-type {\n",
       "        vertical-align: middle;\n",
       "    }\n",
       "\n",
       "    .dataframe tbody tr th {\n",
       "        vertical-align: top;\n",
       "    }\n",
       "\n",
       "    .dataframe thead th {\n",
       "        text-align: right;\n",
       "    }\n",
       "</style>\n",
       "<table border=\"1\" class=\"dataframe\">\n",
       "  <thead>\n",
       "    <tr style=\"text-align: right;\">\n",
       "      <th></th>\n",
       "      <th>baseMean</th>\n",
       "      <th>log2FoldChange</th>\n",
       "      <th>lfcSE</th>\n",
       "      <th>stat</th>\n",
       "      <th>pvalue</th>\n",
       "      <th>padj</th>\n",
       "    </tr>\n",
       "  </thead>\n",
       "  <tbody>\n",
       "    <tr>\n",
       "      <th>ENSG00000000003</th>\n",
       "      <td>38.486166</td>\n",
       "      <td>-0.636080</td>\n",
       "      <td>0.633874</td>\n",
       "      <td>-1.003481</td>\n",
       "      <td>0.315629</td>\n",
       "      <td>0.999979</td>\n",
       "    </tr>\n",
       "    <tr>\n",
       "      <th>ENSG00000000005</th>\n",
       "      <td>0.000000</td>\n",
       "      <td>NaN</td>\n",
       "      <td>NaN</td>\n",
       "      <td>NaN</td>\n",
       "      <td>NaN</td>\n",
       "      <td>NaN</td>\n",
       "    </tr>\n",
       "    <tr>\n",
       "      <th>ENSG00000000419</th>\n",
       "      <td>16.531493</td>\n",
       "      <td>-0.045982</td>\n",
       "      <td>0.609659</td>\n",
       "      <td>-0.075422</td>\n",
       "      <td>0.939879</td>\n",
       "      <td>0.999979</td>\n",
       "    </tr>\n",
       "    <tr>\n",
       "      <th>ENSG00000000457</th>\n",
       "      <td>26.401368</td>\n",
       "      <td>0.171818</td>\n",
       "      <td>0.476003</td>\n",
       "      <td>0.360961</td>\n",
       "      <td>0.718129</td>\n",
       "      <td>0.999979</td>\n",
       "    </tr>\n",
       "    <tr>\n",
       "      <th>ENSG00000000460</th>\n",
       "      <td>1.952594</td>\n",
       "      <td>0.805282</td>\n",
       "      <td>1.602610</td>\n",
       "      <td>0.502481</td>\n",
       "      <td>0.615329</td>\n",
       "      <td>0.999979</td>\n",
       "    </tr>\n",
       "  </tbody>\n",
       "</table>\n",
       "</div>"
      ],
      "text/plain": [
       "                  baseMean  log2FoldChange     lfcSE      stat    pvalue  \\\n",
       "ENSG00000000003  38.486166       -0.636080  0.633874 -1.003481  0.315629   \n",
       "ENSG00000000005   0.000000             NaN       NaN       NaN       NaN   \n",
       "ENSG00000000419  16.531493       -0.045982  0.609659 -0.075422  0.939879   \n",
       "ENSG00000000457  26.401368        0.171818  0.476003  0.360961  0.718129   \n",
       "ENSG00000000460   1.952594        0.805282  1.602610  0.502481  0.615329   \n",
       "\n",
       "                     padj  \n",
       "ENSG00000000003  0.999979  \n",
       "ENSG00000000005       NaN  \n",
       "ENSG00000000419  0.999979  \n",
       "ENSG00000000457  0.999979  \n",
       "ENSG00000000460  0.999979  "
      ]
     },
     "execution_count": 13,
     "metadata": {},
     "output_type": "execute_result"
    }
   ],
   "source": [
    "resultDds.head()"
   ]
  },
  {
   "cell_type": "code",
   "execution_count": 14,
   "metadata": {},
   "outputs": [
    {
     "data": {
      "text/html": [
       "<div>\n",
       "<style scoped>\n",
       "    .dataframe tbody tr th:only-of-type {\n",
       "        vertical-align: middle;\n",
       "    }\n",
       "\n",
       "    .dataframe tbody tr th {\n",
       "        vertical-align: top;\n",
       "    }\n",
       "\n",
       "    .dataframe thead th {\n",
       "        text-align: right;\n",
       "    }\n",
       "</style>\n",
       "<table border=\"1\" class=\"dataframe\">\n",
       "  <thead>\n",
       "    <tr style=\"text-align: right;\">\n",
       "      <th></th>\n",
       "      <th>baseMean</th>\n",
       "      <th>log2FoldChange</th>\n",
       "      <th>lfcSE</th>\n",
       "      <th>stat</th>\n",
       "      <th>pvalue</th>\n",
       "      <th>padj</th>\n",
       "    </tr>\n",
       "  </thead>\n",
       "  <tbody>\n",
       "    <tr>\n",
       "      <th>ENSG00000000003</th>\n",
       "      <td>38.486166</td>\n",
       "      <td>-0.636080</td>\n",
       "      <td>0.633874</td>\n",
       "      <td>-1.003481</td>\n",
       "      <td>0.315629</td>\n",
       "      <td>0.999979</td>\n",
       "    </tr>\n",
       "    <tr>\n",
       "      <th>ENSG00000000005</th>\n",
       "      <td>0.000000</td>\n",
       "      <td>NaN</td>\n",
       "      <td>NaN</td>\n",
       "      <td>NaN</td>\n",
       "      <td>NaN</td>\n",
       "      <td>NaN</td>\n",
       "    </tr>\n",
       "    <tr>\n",
       "      <th>ENSG00000000419</th>\n",
       "      <td>16.531493</td>\n",
       "      <td>-0.045982</td>\n",
       "      <td>0.609659</td>\n",
       "      <td>-0.075422</td>\n",
       "      <td>0.939879</td>\n",
       "      <td>0.999979</td>\n",
       "    </tr>\n",
       "    <tr>\n",
       "      <th>ENSG00000000457</th>\n",
       "      <td>26.401368</td>\n",
       "      <td>0.171818</td>\n",
       "      <td>0.476003</td>\n",
       "      <td>0.360961</td>\n",
       "      <td>0.718129</td>\n",
       "      <td>0.999979</td>\n",
       "    </tr>\n",
       "    <tr>\n",
       "      <th>ENSG00000000460</th>\n",
       "      <td>1.952594</td>\n",
       "      <td>0.805282</td>\n",
       "      <td>1.602610</td>\n",
       "      <td>0.502481</td>\n",
       "      <td>0.615329</td>\n",
       "      <td>0.999979</td>\n",
       "    </tr>\n",
       "    <tr>\n",
       "      <th>...</th>\n",
       "      <td>...</td>\n",
       "      <td>...</td>\n",
       "      <td>...</td>\n",
       "      <td>...</td>\n",
       "      <td>...</td>\n",
       "      <td>...</td>\n",
       "    </tr>\n",
       "    <tr>\n",
       "      <th>ENSG00000254122</th>\n",
       "      <td>13.566756</td>\n",
       "      <td>-0.624627</td>\n",
       "      <td>0.620136</td>\n",
       "      <td>-1.007241</td>\n",
       "      <td>0.313819</td>\n",
       "      <td>0.999979</td>\n",
       "    </tr>\n",
       "    <tr>\n",
       "      <th>ENSG00000254128</th>\n",
       "      <td>1.354613</td>\n",
       "      <td>1.545178</td>\n",
       "      <td>1.897659</td>\n",
       "      <td>0.814255</td>\n",
       "      <td>0.415499</td>\n",
       "      <td>0.999979</td>\n",
       "    </tr>\n",
       "    <tr>\n",
       "      <th>ENSG00000254206</th>\n",
       "      <td>4.289691</td>\n",
       "      <td>1.362863</td>\n",
       "      <td>1.013185</td>\n",
       "      <td>1.345128</td>\n",
       "      <td>0.178584</td>\n",
       "      <td>0.999979</td>\n",
       "    </tr>\n",
       "    <tr>\n",
       "      <th>ENSG00000254221</th>\n",
       "      <td>2.276256</td>\n",
       "      <td>0.296591</td>\n",
       "      <td>1.427451</td>\n",
       "      <td>0.207777</td>\n",
       "      <td>0.835403</td>\n",
       "      <td>0.999979</td>\n",
       "    </tr>\n",
       "    <tr>\n",
       "      <th>ENSG00000254245</th>\n",
       "      <td>3.736322</td>\n",
       "      <td>-0.029290</td>\n",
       "      <td>1.045237</td>\n",
       "      <td>-0.028022</td>\n",
       "      <td>0.977645</td>\n",
       "      <td>0.999979</td>\n",
       "    </tr>\n",
       "  </tbody>\n",
       "</table>\n",
       "<p>8853 rows × 6 columns</p>\n",
       "</div>"
      ],
      "text/plain": [
       "                  baseMean  log2FoldChange     lfcSE      stat    pvalue  \\\n",
       "ENSG00000000003  38.486166       -0.636080  0.633874 -1.003481  0.315629   \n",
       "ENSG00000000005   0.000000             NaN       NaN       NaN       NaN   \n",
       "ENSG00000000419  16.531493       -0.045982  0.609659 -0.075422  0.939879   \n",
       "ENSG00000000457  26.401368        0.171818  0.476003  0.360961  0.718129   \n",
       "ENSG00000000460   1.952594        0.805282  1.602610  0.502481  0.615329   \n",
       "...                    ...             ...       ...       ...       ...   \n",
       "ENSG00000254122  13.566756       -0.624627  0.620136 -1.007241  0.313819   \n",
       "ENSG00000254128   1.354613        1.545178  1.897659  0.814255  0.415499   \n",
       "ENSG00000254206   4.289691        1.362863  1.013185  1.345128  0.178584   \n",
       "ENSG00000254221   2.276256        0.296591  1.427451  0.207777  0.835403   \n",
       "ENSG00000254245   3.736322       -0.029290  1.045237 -0.028022  0.977645   \n",
       "\n",
       "                     padj  \n",
       "ENSG00000000003  0.999979  \n",
       "ENSG00000000005       NaN  \n",
       "ENSG00000000419  0.999979  \n",
       "ENSG00000000457  0.999979  \n",
       "ENSG00000000460  0.999979  \n",
       "...                   ...  \n",
       "ENSG00000254122  0.999979  \n",
       "ENSG00000254128  0.999979  \n",
       "ENSG00000254206  0.999979  \n",
       "ENSG00000254221  0.999979  \n",
       "ENSG00000254245  0.999979  \n",
       "\n",
       "[8853 rows x 6 columns]"
      ]
     },
     "execution_count": 14,
     "metadata": {},
     "output_type": "execute_result"
    }
   ],
   "source": [
    "resultDds.drop_duplicates()"
   ]
  },
  {
   "cell_type": "code",
   "execution_count": 15,
   "metadata": {},
   "outputs": [
    {
     "data": {
      "text/plain": [
       "ENSG00000000003    False\n",
       "ENSG00000000005    False\n",
       "ENSG00000000419    False\n",
       "ENSG00000000457    False\n",
       "ENSG00000000460    False\n",
       "                   ...  \n",
       "LRG_94             False\n",
       "LRG_96             False\n",
       "LRG_97             False\n",
       "LRG_98             False\n",
       "LRG_99             False\n",
       "Name: pvalue, Length: 52580, dtype: bool"
      ]
     },
     "execution_count": 15,
     "metadata": {},
     "output_type": "execute_result"
    }
   ],
   "source": [
    "(resultDds['pvalue'] <= 0.05) "
   ]
  },
  {
   "cell_type": "code",
   "execution_count": 16,
   "metadata": {},
   "outputs": [
    {
     "data": {
      "text/plain": [
       "ENSG00000000003    False\n",
       "ENSG00000000005    False\n",
       "ENSG00000000419    False\n",
       "ENSG00000000457     True\n",
       "ENSG00000000460     True\n",
       "                   ...  \n",
       "LRG_94             False\n",
       "LRG_96             False\n",
       "LRG_97             False\n",
       "LRG_98             False\n",
       "LRG_99             False\n",
       "Name: log2FoldChange, Length: 52580, dtype: bool"
      ]
     },
     "execution_count": 16,
     "metadata": {},
     "output_type": "execute_result"
    }
   ],
   "source": [
    "(resultDds['log2FoldChange'] >= 0)"
   ]
  },
  {
   "cell_type": "code",
   "execution_count": 17,
   "metadata": {},
   "outputs": [],
   "source": [
    "resultDds05 = resultDds[resultDds['pvalue'] <= 0.05]\n",
    "#(resultDds['log2FoldChange'] >= 0)"
   ]
  },
  {
   "cell_type": "code",
   "execution_count": 18,
   "metadata": {},
   "outputs": [
    {
     "data": {
      "text/html": [
       "<div>\n",
       "<style scoped>\n",
       "    .dataframe tbody tr th:only-of-type {\n",
       "        vertical-align: middle;\n",
       "    }\n",
       "\n",
       "    .dataframe tbody tr th {\n",
       "        vertical-align: top;\n",
       "    }\n",
       "\n",
       "    .dataframe thead th {\n",
       "        text-align: right;\n",
       "    }\n",
       "</style>\n",
       "<table border=\"1\" class=\"dataframe\">\n",
       "  <thead>\n",
       "    <tr style=\"text-align: right;\">\n",
       "      <th></th>\n",
       "      <th>baseMean</th>\n",
       "      <th>log2FoldChange</th>\n",
       "      <th>lfcSE</th>\n",
       "      <th>stat</th>\n",
       "      <th>pvalue</th>\n",
       "      <th>padj</th>\n",
       "    </tr>\n",
       "  </thead>\n",
       "  <tbody>\n",
       "    <tr>\n",
       "      <th>ENSG00000129824</th>\n",
       "      <td>35.864006</td>\n",
       "      <td>6.103900</td>\n",
       "      <td>3.085011</td>\n",
       "      <td>1.978567</td>\n",
       "      <td>0.047865</td>\n",
       "      <td>0.999979</td>\n",
       "    </tr>\n",
       "    <tr>\n",
       "      <th>ENSG00000138131</th>\n",
       "      <td>365.293870</td>\n",
       "      <td>5.045004</td>\n",
       "      <td>1.393825</td>\n",
       "      <td>3.619540</td>\n",
       "      <td>0.000295</td>\n",
       "      <td>0.388019</td>\n",
       "    </tr>\n",
       "  </tbody>\n",
       "</table>\n",
       "</div>"
      ],
      "text/plain": [
       "                   baseMean  log2FoldChange     lfcSE      stat    pvalue  \\\n",
       "ENSG00000129824   35.864006        6.103900  3.085011  1.978567  0.047865   \n",
       "ENSG00000138131  365.293870        5.045004  1.393825  3.619540  0.000295   \n",
       "\n",
       "                     padj  \n",
       "ENSG00000129824  0.999979  \n",
       "ENSG00000138131  0.388019  "
      ]
     },
     "execution_count": 18,
     "metadata": {},
     "output_type": "execute_result"
    }
   ],
   "source": [
    "resultDds05[resultDds05['log2FoldChange'] >= 5]"
   ]
  },
  {
   "cell_type": "code",
   "execution_count": 19,
   "metadata": {},
   "outputs": [
    {
     "data": {
      "text/html": [
       "<div>\n",
       "<style scoped>\n",
       "    .dataframe tbody tr th:only-of-type {\n",
       "        vertical-align: middle;\n",
       "    }\n",
       "\n",
       "    .dataframe tbody tr th {\n",
       "        vertical-align: top;\n",
       "    }\n",
       "\n",
       "    .dataframe thead th {\n",
       "        text-align: right;\n",
       "    }\n",
       "</style>\n",
       "<table border=\"1\" class=\"dataframe\">\n",
       "  <thead>\n",
       "    <tr style=\"text-align: right;\">\n",
       "      <th></th>\n",
       "      <th>baseMean</th>\n",
       "      <th>log2FoldChange</th>\n",
       "      <th>lfcSE</th>\n",
       "      <th>stat</th>\n",
       "      <th>pvalue</th>\n",
       "      <th>padj</th>\n",
       "    </tr>\n",
       "  </thead>\n",
       "  <tbody>\n",
       "    <tr>\n",
       "      <th>ENSG00000129824</th>\n",
       "      <td>35.864006</td>\n",
       "      <td>6.103900</td>\n",
       "      <td>3.085011</td>\n",
       "      <td>1.978567</td>\n",
       "      <td>0.047865</td>\n",
       "      <td>0.999979</td>\n",
       "    </tr>\n",
       "    <tr>\n",
       "      <th>ENSG00000138131</th>\n",
       "      <td>365.293870</td>\n",
       "      <td>5.045004</td>\n",
       "      <td>1.393825</td>\n",
       "      <td>3.619540</td>\n",
       "      <td>0.000295</td>\n",
       "      <td>0.388019</td>\n",
       "    </tr>\n",
       "  </tbody>\n",
       "</table>\n",
       "</div>"
      ],
      "text/plain": [
       "                   baseMean  log2FoldChange     lfcSE      stat    pvalue  \\\n",
       "ENSG00000129824   35.864006        6.103900  3.085011  1.978567  0.047865   \n",
       "ENSG00000138131  365.293870        5.045004  1.393825  3.619540  0.000295   \n",
       "\n",
       "                     padj  \n",
       "ENSG00000129824  0.999979  \n",
       "ENSG00000138131  0.388019  "
      ]
     },
     "execution_count": 19,
     "metadata": {},
     "output_type": "execute_result"
    }
   ],
   "source": [
    "resultDds05[resultDds05['log2FoldChange'] >= 5]"
   ]
  },
  {
   "cell_type": "code",
   "execution_count": 20,
   "metadata": {},
   "outputs": [
    {
     "data": {
      "text/plain": [
       "baseMean          365.293870\n",
       "log2FoldChange      6.103900\n",
       "lfcSE               3.085011\n",
       "stat                3.619540\n",
       "pvalue              0.047865\n",
       "padj                0.999979\n",
       "dtype: float64"
      ]
     },
     "execution_count": 20,
     "metadata": {},
     "output_type": "execute_result"
    }
   ],
   "source": [
    "resultDds05[resultDds05['log2FoldChange'] >= 5].max()"
   ]
  },
  {
   "cell_type": "code",
   "execution_count": 21,
   "metadata": {},
   "outputs": [
    {
     "data": {
      "text/plain": [
       "baseMean          float64\n",
       "log2FoldChange    float64\n",
       "lfcSE             float64\n",
       "stat              float64\n",
       "pvalue            float64\n",
       "padj              float64\n",
       "dtype: object"
      ]
     },
     "execution_count": 21,
     "metadata": {},
     "output_type": "execute_result"
    }
   ],
   "source": [
    "resultDds05[resultDds05['log2FoldChange'] >= 5].dtypes"
   ]
  },
  {
   "cell_type": "code",
   "execution_count": 22,
   "metadata": {},
   "outputs": [],
   "source": [
    "from bioinfokit import analys, visuz"
   ]
  },
  {
   "cell_type": "code",
   "execution_count": 23,
   "metadata": {},
   "outputs": [
    {
     "name": "stderr",
     "output_type": "stream",
     "text": [
      "findfont: Font family ['Arial'] not found. Falling back to DejaVu Sans.\n"
     ]
    },
    {
     "data": {
      "image/png": "[encoded data removed]",
      "text/plain": [
       "<Figure size 360x360 with 1 Axes>"
      ]
     },
     "metadata": {},
     "output_type": "display_data"
    }
   ],
   "source": [
    "df = resultDds05\n",
    "visuz.gene_exp.volcano(df=df, lfc='log2FoldChange', pv='pvalue', theme='dark', color=(\"red\", \"grey\", \"green\"), markerdot='*', dotsize=25, show=True)"
   ]
  },
  {
   "cell_type": "code",
   "execution_count": 24,
   "metadata": {},
   "outputs": [
    {
     "data": {
      "text/html": [
       "\n",
       "        <span>StrVector with 279 elements.</span>\n",
       "        <table>\n",
       "        <tbody>\n",
       "          <tr>\n",
       "          \n",
       "            <td>\n",
       "            'ENSG0000...\n",
       "            </td>\n",
       "          \n",
       "            <td>\n",
       "            'ENSG0000...\n",
       "            </td>\n",
       "          \n",
       "            <td>\n",
       "            'ENSG0000...\n",
       "            </td>\n",
       "          \n",
       "            <td>\n",
       "            ...\n",
       "            </td>\n",
       "          \n",
       "            <td>\n",
       "            'ENSG0000...\n",
       "            </td>\n",
       "          \n",
       "            <td>\n",
       "            'ENSG0000...\n",
       "            </td>\n",
       "          \n",
       "            <td>\n",
       "            'ENSG0000...\n",
       "            </td>\n",
       "          \n",
       "          </tr>\n",
       "        </tbody>\n",
       "        </table>\n",
       "        "
      ],
      "text/plain": [
       "<rpy2.robjects.vectors.StrVector object at 0x7f94a29dbe00> [RTYPES.STRSXP]\n",
       "R classes: ('character',)\n",
       "['ENSG0000..., 'ENSG0000..., 'ENSG0000..., 'ENSG0000..., ..., 'ENSG0000..., 'ENSG0000..., 'ENSG0000..., 'ENSG0000...]"
      ]
     },
     "execution_count": 24,
     "metadata": {},
     "output_type": "execute_result"
    }
   ],
   "source": [
    "geneID = resultDds05.index.tolist()\n",
    "%R -i geneID \n",
    "%R gene.list <- as.character(geneID)\n",
    "%R gene.list\n",
    "#%R gene.list[3]"
   ]
  },
  {
   "cell_type": "code",
   "execution_count": 25,
   "metadata": {},
   "outputs": [
    {
     "name": "stderr",
     "output_type": "stream",
     "text": [
      "R[write to console]: Loading required package: GenomicFeatures\n",
      "\n",
      "R[write to console]: Loading required package: AnnotationDbi\n",
      "\n",
      "R[write to console]: \n",
      "Attaching package: ‘AnnotationDbi’\n",
      "\n",
      "\n",
      "R[write to console]: The following object is masked from ‘package:dplyr’:\n",
      "\n",
      "    select\n",
      "\n",
      "\n"
     ]
    },
    {
     "name": "stdout",
     "output_type": "stream",
     "text": [
      "DataFrame with 279 rows and 5 columns\n",
      "              query         _id X_version      symbol  notfound\n",
      "        <character> <character> <integer> <character> <logical>\n",
      "1   ENSG00000002834        3927         4       LASP1        NA\n",
      "2   ENSG00000003249       79007         3      DBNDD1        NA\n",
      "3   ENSG00000006210        6376         9      CX3CL1        NA\n",
      "4   ENSG00000008323       55200         2     PLEKHG6        NA\n",
      "5   ENSG00000008517        9235         5        IL32        NA\n",
      "...             ...         ...       ...         ...       ...\n",
      "275 ENSG00000215256       55449         1   DHRS4-AS1        NA\n",
      "276 ENSG00000216588      147710         1      IGSF23        NA\n",
      "277 ENSG00000242220      140290         4      TCP10L        NA\n",
      "278 ENSG00000242574        3109         2     HLA-DMB        NA\n",
      "279 ENSG00000244734        3043         5         HBB        NA\n"
     ]
    }
   ],
   "source": [
    "%%R\n",
    "    library(mygene)\n",
    "    geneName <- getGenes(gene.list, fields='symbol')\n",
    "    geneName"
   ]
  },
  {
   "cell_type": "code",
   "execution_count": 26,
   "metadata": {},
   "outputs": [
    {
     "name": "stdout",
     "output_type": "stream",
     "text": [
      "  [1] \"LASP1\"     \"DBNDD1\"    \"CX3CL1\"    \"PLEKHG6\"   \"IL32\"      \"CD22\"     \n",
      "  [7] \"GPRC5A\"    \"SNAI2\"     \"ALAS1\"     \"EHD2\"      \"HSPA5\"     \"H6PD\"     \n",
      " [13] \"PLEKHH1\"   \"TMCC3\"     \"CREB3L3\"   \"PFN2\"      \"CDH19\"     \"IRAG1\"    \n",
      " [19] \"MKRN2\"     \"MCAM\"      \"FDFT1\"     \"PTPRH\"     \"HSP90AA1\"  \"IRAK3\"    \n",
      " [25] \"EFNB1\"     \"RFFL\"      \"BAMBI\"     \"TREM2\"     \"EFNA2\"     NA         \n",
      " [31] \"CDHR5\"     \"OSM\"       \"MMP9\"      \"OXT\"       \"MYOM1\"     \"CHRDL1\"   \n",
      " [37] \"SRPX\"      \"F9\"        \"FLT1\"      \"NECAB2\"    \"CRISPLD2\"  \"MEFV\"     \n",
      " [43] \"TOX3\"      \"MAZ\"       \"RASL12\"    \"RETN\"      \"CLEC4M\"    \"PLA2G4C\"  \n",
      " [49] \"JAK3\"      \"CLDN15\"    \"PSMA2\"     \"OGN\"       \"ASPN\"      \"MINPP1\"   \n",
      " [55] \"ACTA2\"     \"TNFAIP1\"   \"CRYAB\"     \"APOA4\"     \"RNF141\"    \"POU2AF1\"  \n",
      " [61] \"MGP\"       \"IFNG\"      \"ENO2\"      \"LDHB\"      \"VNN2\"      \"ACVR2B\"   \n",
      " [67] \"IGFBP5\"    \"GNLY\"      \"MMP8\"      \"TCF21\"     \"FGF23\"     \"ZC2HC1C\"  \n",
      " [73] \"PPP1R3C\"   \"GNA13\"     \"TMPO\"      \"HS3ST2\"    \"SRGN\"      \"ADGRE5\"   \n",
      " [79] \"LRP1\"      \"NFE2\"      \"FAM124B\"   \"KCNS1\"     \"UNC5CL\"    \"TREM1\"    \n",
      " [85] \"ARMC7\"     \"TNFSF9\"    \"TNFSF14\"   \"TICAM1\"    \"METTL16\"   \"FGL2\"     \n",
      " [91] \"DLL4\"      \"CDO1\"      \"RPS4Y1\"    \"SHC2\"      \"ANGPTL8\"   \"CNN1\"     \n",
      " [97] \"GADD45G\"   \"IQCN\"      \"GMFG\"      \"DNAJB1\"    \"RAMP1\"     \"MTSS2\"    \n",
      "[103] \"IGHMBP2\"   \"MYH11\"     \"LYVE1\"     \"EMP1\"      \"APLNR\"     \"NAA35\"    \n",
      "[109] \"DTX1\"      \"AVIL\"      \"SPRY2\"     \"EDNRB\"     \"CHAD\"      \"GATA4\"    \n",
      "[115] \"RPL35\"     \"MYC\"       \"ABCG5\"     \"LOXL4\"     \"CH25H\"     \"OIT3\"     \n",
      "[121] \"MMRN1\"     \"CXCL9\"     \"CLSTN3\"    \"CBLN3\"     \"RAB15\"     \"BCL2A1\"   \n",
      "[127] \"TSPAN3\"    \"CYP1A1\"    \"ZNF710\"    \"OSGIN1\"    \"GAS8\"      \"SCRN2\"    \n",
      "[133] \"ZMYND15\"   \"SLC16A3\"   \"CCN1\"      \"S100A8\"    \"FEM1C\"     \"SLC17A4\"  \n",
      "[139] \"PLA2G7\"    \"ENDOD1\"    \"SERPINH1\"  \"ESAM\"      \"TAGLN\"     \"TM7SF2\"   \n",
      "[145] \"PRSS23\"    \"UBC\"       \"GLT1D1\"    \"BMP6\"      \"KCTD15\"    \"GAL3ST2\"  \n",
      "[151] \"MS4A1\"     \"HPD\"       \"H2BC5\"     \"NBL1\"      \"STC1\"      \"ACTC1\"    \n",
      "[157] \"TFF2\"      \"S100B\"     \"SCGB3A1\"   \"NAGS\"      \"RPS6KA4\"   \"DHRS3\"    \n",
      "[163] \"ADGRL4\"    \"B3GALT2\"   \"TNFAIP8L2\" \"S100A11\"   \"PROK2\"     \"IGFBP7\"   \n",
      "[169] \"IHH\"       \"TGFBR2\"    \"RYBP\"      \"PPBP\"      \"S100P\"     \"LEAP2\"    \n",
      "[175] \"CITED2\"    \"KCNK5\"     \"MID1IP1\"   \"CLDN2\"     \"IFI27\"     \"CKB\"      \n",
      "[181] \"ZNF319\"    \"GABRB3\"    \"ANPEP\"     \"SLC27A4\"   \"C15orf39\"  \"TMIGD2\"   \n",
      "[187] \"PLIN4\"     \"IGFBP6\"    \"VWCE\"      NA          \"CAVIN2\"    \"MUCL3\"    \n",
      "[193] \"NMD3\"      \"ADRB2\"     \"CLIC4\"     \"MT1B\"      \"GP9\"       \"OTUD7A\"   \n",
      "[199] \"PDGFD\"     \"FPR1\"      \"FUT3\"      \"SYNPO\"     \"ID4\"       \"CES2\"     \n",
      "[205] \"MYEOV\"     \"SYT12\"     \"PPP1R3B\"   \"LRFN4\"     \"RCE1\"      \"ATP5MK\"   \n",
      "[211] \"MSRB3\"     \"TMEM167A\"  \"RESF1\"     \"FUT1\"      \"CA5A\"      \"DDIT3\"    \n",
      "[217] \"MLXIP\"     \"FIBIN\"     \"PNPLA2\"    \"STAP2\"     \"TMPRSS9\"   \"APOLD1\"   \n",
      "[223] \"KLHDC7A\"   NA          \"WDR97\"     \"H2AC6\"     \"SSTR2\"     \"FAM83H\"   \n",
      "[229] \"IZUMO1\"    \"ADGRG3\"    \"C19orf71\"  \"PCDH9\"     \"ALDH1A3\"   \"XPOT\"     \n",
      "[235] \"H2BC21\"    \"SV2B\"      \"SRL\"       \"IFIT1\"     \"CYP4F3\"    \"RTN4RL2\"  \n",
      "[241] \"GJA4\"      \"ISG15\"     \"TMSB4XP8\"  \"H1-2\"      NA          \"C15orf62\" \n",
      "[247] \"HES4\"      \"GJB3\"      \"PRTN3\"     \"MMP1\"      NA          \"HSH2D\"    \n",
      "[253] \"TRPV1\"     \"ZNF165\"    \"PIGN\"      \"S100A10\"   NA          \"GPAA1\"    \n",
      "[259] \"S100A6\"    \"TPM2\"      \"SSBP3-AS1\" \"COX2\"      \"SLC5A3\"    \"COX1\"     \n",
      "[265] \"PNP\"       \"ATP6\"      \"SPIRE2\"    \"PKHD1L1\"   \"CCDC85C\"   \"DPP9-AS1\" \n",
      "[271] \"LINGO4\"    \"CEACAM16\"  \"TSPAN4\"    \"PLIN5\"     \"DHRS4-AS1\" \"IGSF23\"   \n",
      "[277] \"TCP10L\"    \"HLA-DMB\"   \"HBB\"      \n",
      "\n"
     ]
    }
   ],
   "source": [
    "%R listGeneName <- geneName$symbol\n",
    "%R -o listGeneName\n",
    "print(listGeneName)"
   ]
  },
  {
   "cell_type": "code",
   "execution_count": 27,
   "metadata": {},
   "outputs": [
    {
     "name": "stderr",
     "output_type": "stream",
     "text": [
      "<ipython-input-27-2c4f64a33c02>:1: SettingWithCopyWarning: \n",
      "A value is trying to be set on a copy of a slice from a DataFrame.\n",
      "Try using .loc[row_indexer,col_indexer] = value instead\n",
      "\n",
      "See the caveats in the documentation: https://pandas.pydata.org/pandas-docs/stable/user_guide/indexing.html#returning-a-view-versus-a-copy\n",
      "  resultDds05['GeneName'] = listGeneName\n"
     ]
    },
    {
     "data": {
      "text/html": [
       "<div>\n",
       "<style scoped>\n",
       "    .dataframe tbody tr th:only-of-type {\n",
       "        vertical-align: middle;\n",
       "    }\n",
       "\n",
       "    .dataframe tbody tr th {\n",
       "        vertical-align: top;\n",
       "    }\n",
       "\n",
       "    .dataframe thead th {\n",
       "        text-align: right;\n",
       "    }\n",
       "</style>\n",
       "<table border=\"1\" class=\"dataframe\">\n",
       "  <thead>\n",
       "    <tr style=\"text-align: right;\">\n",
       "      <th></th>\n",
       "      <th>baseMean</th>\n",
       "      <th>log2FoldChange</th>\n",
       "      <th>lfcSE</th>\n",
       "      <th>stat</th>\n",
       "      <th>pvalue</th>\n",
       "      <th>padj</th>\n",
       "      <th>GeneName</th>\n",
       "    </tr>\n",
       "  </thead>\n",
       "  <tbody>\n",
       "    <tr>\n",
       "      <th>ENSG00000002834</th>\n",
       "      <td>36.797449</td>\n",
       "      <td>0.963482</td>\n",
       "      <td>0.470134</td>\n",
       "      <td>2.049375</td>\n",
       "      <td>0.040425</td>\n",
       "      <td>0.999979</td>\n",
       "      <td>LASP1</td>\n",
       "    </tr>\n",
       "    <tr>\n",
       "      <th>ENSG00000003249</th>\n",
       "      <td>65.893079</td>\n",
       "      <td>2.988309</td>\n",
       "      <td>0.744210</td>\n",
       "      <td>4.015411</td>\n",
       "      <td>0.000059</td>\n",
       "      <td>0.124832</td>\n",
       "      <td>DBNDD1</td>\n",
       "    </tr>\n",
       "    <tr>\n",
       "      <th>ENSG00000006210</th>\n",
       "      <td>195.905358</td>\n",
       "      <td>0.962956</td>\n",
       "      <td>0.359309</td>\n",
       "      <td>2.680021</td>\n",
       "      <td>0.007362</td>\n",
       "      <td>0.999979</td>\n",
       "      <td>CX3CL1</td>\n",
       "    </tr>\n",
       "    <tr>\n",
       "      <th>ENSG00000008323</th>\n",
       "      <td>14.800023</td>\n",
       "      <td>1.280345</td>\n",
       "      <td>0.605227</td>\n",
       "      <td>2.115480</td>\n",
       "      <td>0.034389</td>\n",
       "      <td>0.999979</td>\n",
       "      <td>PLEKHG6</td>\n",
       "    </tr>\n",
       "    <tr>\n",
       "      <th>ENSG00000008517</th>\n",
       "      <td>273.532925</td>\n",
       "      <td>1.508017</td>\n",
       "      <td>0.666956</td>\n",
       "      <td>2.261044</td>\n",
       "      <td>0.023757</td>\n",
       "      <td>0.999979</td>\n",
       "      <td>IL32</td>\n",
       "    </tr>\n",
       "    <tr>\n",
       "      <th>...</th>\n",
       "      <td>...</td>\n",
       "      <td>...</td>\n",
       "      <td>...</td>\n",
       "      <td>...</td>\n",
       "      <td>...</td>\n",
       "      <td>...</td>\n",
       "      <td>...</td>\n",
       "    </tr>\n",
       "    <tr>\n",
       "      <th>ENSG00000215256</th>\n",
       "      <td>47.778264</td>\n",
       "      <td>-1.224522</td>\n",
       "      <td>0.518542</td>\n",
       "      <td>-2.361473</td>\n",
       "      <td>0.018203</td>\n",
       "      <td>0.999979</td>\n",
       "      <td>DHRS4-AS1</td>\n",
       "    </tr>\n",
       "    <tr>\n",
       "      <th>ENSG00000216588</th>\n",
       "      <td>23.506956</td>\n",
       "      <td>1.712557</td>\n",
       "      <td>0.676110</td>\n",
       "      <td>2.532956</td>\n",
       "      <td>0.011311</td>\n",
       "      <td>0.999979</td>\n",
       "      <td>IGSF23</td>\n",
       "    </tr>\n",
       "    <tr>\n",
       "      <th>ENSG00000242220</th>\n",
       "      <td>6.314970</td>\n",
       "      <td>2.081923</td>\n",
       "      <td>1.000790</td>\n",
       "      <td>2.080281</td>\n",
       "      <td>0.037500</td>\n",
       "      <td>0.999979</td>\n",
       "      <td>TCP10L</td>\n",
       "    </tr>\n",
       "    <tr>\n",
       "      <th>ENSG00000242574</th>\n",
       "      <td>31.791989</td>\n",
       "      <td>1.221171</td>\n",
       "      <td>0.536003</td>\n",
       "      <td>2.278291</td>\n",
       "      <td>0.022709</td>\n",
       "      <td>0.999979</td>\n",
       "      <td>HLA-DMB</td>\n",
       "    </tr>\n",
       "    <tr>\n",
       "      <th>ENSG00000244734</th>\n",
       "      <td>94.976908</td>\n",
       "      <td>-2.935069</td>\n",
       "      <td>0.704277</td>\n",
       "      <td>-4.167490</td>\n",
       "      <td>0.000031</td>\n",
       "      <td>0.080981</td>\n",
       "      <td>HBB</td>\n",
       "    </tr>\n",
       "  </tbody>\n",
       "</table>\n",
       "<p>279 rows × 7 columns</p>\n",
       "</div>"
      ],
      "text/plain": [
       "                   baseMean  log2FoldChange     lfcSE      stat    pvalue  \\\n",
       "ENSG00000002834   36.797449        0.963482  0.470134  2.049375  0.040425   \n",
       "ENSG00000003249   65.893079        2.988309  0.744210  4.015411  0.000059   \n",
       "ENSG00000006210  195.905358        0.962956  0.359309  2.680021  0.007362   \n",
       "ENSG00000008323   14.800023        1.280345  0.605227  2.115480  0.034389   \n",
       "ENSG00000008517  273.532925        1.508017  0.666956  2.261044  0.023757   \n",
       "...                     ...             ...       ...       ...       ...   \n",
       "ENSG00000215256   47.778264       -1.224522  0.518542 -2.361473  0.018203   \n",
       "ENSG00000216588   23.506956        1.712557  0.676110  2.532956  0.011311   \n",
       "ENSG00000242220    6.314970        2.081923  1.000790  2.080281  0.037500   \n",
       "ENSG00000242574   31.791989        1.221171  0.536003  2.278291  0.022709   \n",
       "ENSG00000244734   94.976908       -2.935069  0.704277 -4.167490  0.000031   \n",
       "\n",
       "                     padj   GeneName  \n",
       "ENSG00000002834  0.999979      LASP1  \n",
       "ENSG00000003249  0.124832     DBNDD1  \n",
       "ENSG00000006210  0.999979     CX3CL1  \n",
       "ENSG00000008323  0.999979    PLEKHG6  \n",
       "ENSG00000008517  0.999979       IL32  \n",
       "...                   ...        ...  \n",
       "ENSG00000215256  0.999979  DHRS4-AS1  \n",
       "ENSG00000216588  0.999979     IGSF23  \n",
       "ENSG00000242220  0.999979     TCP10L  \n",
       "ENSG00000242574  0.999979    HLA-DMB  \n",
       "ENSG00000244734  0.080981        HBB  \n",
       "\n",
       "[279 rows x 7 columns]"
      ]
     },
     "execution_count": 27,
     "metadata": {},
     "output_type": "execute_result"
    }
   ],
   "source": [
    "resultDds05['GeneName'] = listGeneName\n",
    "resultDds05"
   ]
  },
  {
   "cell_type": "code",
   "execution_count": 28,
   "metadata": {},
   "outputs": [
    {
     "data": {
      "text/html": [
       "<div>\n",
       "<style scoped>\n",
       "    .dataframe tbody tr th:only-of-type {\n",
       "        vertical-align: middle;\n",
       "    }\n",
       "\n",
       "    .dataframe tbody tr th {\n",
       "        vertical-align: top;\n",
       "    }\n",
       "\n",
       "    .dataframe thead th {\n",
       "        text-align: right;\n",
       "    }\n",
       "</style>\n",
       "<table border=\"1\" class=\"dataframe\">\n",
       "  <thead>\n",
       "    <tr style=\"text-align: right;\">\n",
       "      <th></th>\n",
       "      <th>baseMean</th>\n",
       "      <th>log2FoldChange</th>\n",
       "      <th>lfcSE</th>\n",
       "      <th>stat</th>\n",
       "      <th>pvalue</th>\n",
       "      <th>padj</th>\n",
       "      <th>GeneName</th>\n",
       "    </tr>\n",
       "  </thead>\n",
       "  <tbody>\n",
       "    <tr>\n",
       "      <th>ENSG00000002834</th>\n",
       "      <td>36.797449</td>\n",
       "      <td>0.963482</td>\n",
       "      <td>0.470134</td>\n",
       "      <td>2.049375</td>\n",
       "      <td>0.040425</td>\n",
       "      <td>0.999979</td>\n",
       "      <td>LASP1</td>\n",
       "    </tr>\n",
       "    <tr>\n",
       "      <th>ENSG00000003249</th>\n",
       "      <td>65.893079</td>\n",
       "      <td>2.988309</td>\n",
       "      <td>0.744210</td>\n",
       "      <td>4.015411</td>\n",
       "      <td>0.000059</td>\n",
       "      <td>0.124832</td>\n",
       "      <td>DBNDD1</td>\n",
       "    </tr>\n",
       "    <tr>\n",
       "      <th>ENSG00000006210</th>\n",
       "      <td>195.905358</td>\n",
       "      <td>0.962956</td>\n",
       "      <td>0.359309</td>\n",
       "      <td>2.680021</td>\n",
       "      <td>0.007362</td>\n",
       "      <td>0.999979</td>\n",
       "      <td>CX3CL1</td>\n",
       "    </tr>\n",
       "    <tr>\n",
       "      <th>ENSG00000008323</th>\n",
       "      <td>14.800023</td>\n",
       "      <td>1.280345</td>\n",
       "      <td>0.605227</td>\n",
       "      <td>2.115480</td>\n",
       "      <td>0.034389</td>\n",
       "      <td>0.999979</td>\n",
       "      <td>PLEKHG6</td>\n",
       "    </tr>\n",
       "    <tr>\n",
       "      <th>ENSG00000008517</th>\n",
       "      <td>273.532925</td>\n",
       "      <td>1.508017</td>\n",
       "      <td>0.666956</td>\n",
       "      <td>2.261044</td>\n",
       "      <td>0.023757</td>\n",
       "      <td>0.999979</td>\n",
       "      <td>IL32</td>\n",
       "    </tr>\n",
       "    <tr>\n",
       "      <th>...</th>\n",
       "      <td>...</td>\n",
       "      <td>...</td>\n",
       "      <td>...</td>\n",
       "      <td>...</td>\n",
       "      <td>...</td>\n",
       "      <td>...</td>\n",
       "      <td>...</td>\n",
       "    </tr>\n",
       "    <tr>\n",
       "      <th>ENSG00000214063</th>\n",
       "      <td>114.527296</td>\n",
       "      <td>0.779046</td>\n",
       "      <td>0.389764</td>\n",
       "      <td>1.998765</td>\n",
       "      <td>0.045634</td>\n",
       "      <td>0.999979</td>\n",
       "      <td>TSPAN4</td>\n",
       "    </tr>\n",
       "    <tr>\n",
       "      <th>ENSG00000214456</th>\n",
       "      <td>173.946616</td>\n",
       "      <td>1.060871</td>\n",
       "      <td>0.380995</td>\n",
       "      <td>2.784473</td>\n",
       "      <td>0.005361</td>\n",
       "      <td>0.999979</td>\n",
       "      <td>PLIN5</td>\n",
       "    </tr>\n",
       "    <tr>\n",
       "      <th>ENSG00000216588</th>\n",
       "      <td>23.506956</td>\n",
       "      <td>1.712557</td>\n",
       "      <td>0.676110</td>\n",
       "      <td>2.532956</td>\n",
       "      <td>0.011311</td>\n",
       "      <td>0.999979</td>\n",
       "      <td>IGSF23</td>\n",
       "    </tr>\n",
       "    <tr>\n",
       "      <th>ENSG00000242220</th>\n",
       "      <td>6.314970</td>\n",
       "      <td>2.081923</td>\n",
       "      <td>1.000790</td>\n",
       "      <td>2.080281</td>\n",
       "      <td>0.037500</td>\n",
       "      <td>0.999979</td>\n",
       "      <td>TCP10L</td>\n",
       "    </tr>\n",
       "    <tr>\n",
       "      <th>ENSG00000242574</th>\n",
       "      <td>31.791989</td>\n",
       "      <td>1.221171</td>\n",
       "      <td>0.536003</td>\n",
       "      <td>2.278291</td>\n",
       "      <td>0.022709</td>\n",
       "      <td>0.999979</td>\n",
       "      <td>HLA-DMB</td>\n",
       "    </tr>\n",
       "  </tbody>\n",
       "</table>\n",
       "<p>106 rows × 7 columns</p>\n",
       "</div>"
      ],
      "text/plain": [
       "                   baseMean  log2FoldChange     lfcSE      stat    pvalue  \\\n",
       "ENSG00000002834   36.797449        0.963482  0.470134  2.049375  0.040425   \n",
       "ENSG00000003249   65.893079        2.988309  0.744210  4.015411  0.000059   \n",
       "ENSG00000006210  195.905358        0.962956  0.359309  2.680021  0.007362   \n",
       "ENSG00000008323   14.800023        1.280345  0.605227  2.115480  0.034389   \n",
       "ENSG00000008517  273.532925        1.508017  0.666956  2.261044  0.023757   \n",
       "...                     ...             ...       ...       ...       ...   \n",
       "ENSG00000214063  114.527296        0.779046  0.389764  1.998765  0.045634   \n",
       "ENSG00000214456  173.946616        1.060871  0.380995  2.784473  0.005361   \n",
       "ENSG00000216588   23.506956        1.712557  0.676110  2.532956  0.011311   \n",
       "ENSG00000242220    6.314970        2.081923  1.000790  2.080281  0.037500   \n",
       "ENSG00000242574   31.791989        1.221171  0.536003  2.278291  0.022709   \n",
       "\n",
       "                     padj GeneName  \n",
       "ENSG00000002834  0.999979    LASP1  \n",
       "ENSG00000003249  0.124832   DBNDD1  \n",
       "ENSG00000006210  0.999979   CX3CL1  \n",
       "ENSG00000008323  0.999979  PLEKHG6  \n",
       "ENSG00000008517  0.999979     IL32  \n",
       "...                   ...      ...  \n",
       "ENSG00000214063  0.999979   TSPAN4  \n",
       "ENSG00000214456  0.999979    PLIN5  \n",
       "ENSG00000216588  0.999979   IGSF23  \n",
       "ENSG00000242220  0.999979   TCP10L  \n",
       "ENSG00000242574  0.999979  HLA-DMB  \n",
       "\n",
       "[106 rows x 7 columns]"
      ]
     },
     "execution_count": 28,
     "metadata": {},
     "output_type": "execute_result"
    }
   ],
   "source": [
    "resultDds05[resultDds05['log2FoldChange'] >= 0]"
   ]
  },
  {
   "cell_type": "code",
   "execution_count": 29,
   "metadata": {},
   "outputs": [
    {
     "data": {
      "image/png": "[encoded data removed]",
      "text/plain": [
       "<Figure size 500x500 with 1 Axes>"
      ]
     },
     "metadata": {},
     "output_type": "display_data"
    }
   ],
   "source": [
    "df = resultDds05\n",
    "visuz.gene_exp.volcano(df=df, lfc='log2FoldChange', pv='pvalue',  color=(\"red\", \"grey\", \"green\"), markerdot='*', plotlegend=True, dotsize=25, show=True)"
   ]
  },
  {
   "cell_type": "code",
   "execution_count": 30,
   "metadata": {},
   "outputs": [
    {
     "name": "stderr",
     "output_type": "stream",
     "text": [
      "/home/srivastava/anaconda3/lib/python3.8/site-packages/pandas/core/series.py:679: RuntimeWarning: invalid value encountered in log2\n",
      "  result = getattr(ufunc, method)(*inputs, **kwargs)\n",
      "<__array_function__ internals>:5: UserWarning: Warning: converting a masked element to nan.\n",
      "/home/srivastava/anaconda3/lib/python3.8/site-packages/numpy/core/_asarray.py:85: UserWarning: Warning: converting a masked element to nan.\n",
      "  return array(a, dtype, copy=False, order=order)\n",
      "/home/srivastava/anaconda3/lib/python3.8/site-packages/matplotlib/ticker.py:586: UserWarning: Warning: converting a masked element to nan.\n",
      "  s = self.format % xp\n"
     ]
    },
    {
     "data": {
      "image/png": "[encoded data removed]",
      "text/plain": [
       "<Figure size 600x500 with 1 Axes>"
      ]
     },
     "metadata": {},
     "output_type": "display_data"
    }
   ],
   "source": [
    "visuz.gene_exp.ma(df=df, lfc='log2FoldChange', ct_count='baseMean', st_count='stat', plotlegend=True, \n",
    "    color=('#00239CFF', 'grey', '#E10600FF'), show=True)"
   ]
  },
  {
   "cell_type": "code",
   "execution_count": 78,
   "metadata": {},
   "outputs": [
    {
     "data": {
      "text/html": [
       "\n",
       "        <span>StrVector with 279 elements.</span>\n",
       "        <table>\n",
       "        <tbody>\n",
       "          <tr>\n",
       "          \n",
       "            <td>\n",
       "            'ENSG0000...\n",
       "            </td>\n",
       "          \n",
       "            <td>\n",
       "            'ENSG0000...\n",
       "            </td>\n",
       "          \n",
       "            <td>\n",
       "            'ENSG0000...\n",
       "            </td>\n",
       "          \n",
       "            <td>\n",
       "            ...\n",
       "            </td>\n",
       "          \n",
       "            <td>\n",
       "            'ENSG0000...\n",
       "            </td>\n",
       "          \n",
       "            <td>\n",
       "            'ENSG0000...\n",
       "            </td>\n",
       "          \n",
       "            <td>\n",
       "            'ENSG0000...\n",
       "            </td>\n",
       "          \n",
       "          </tr>\n",
       "        </tbody>\n",
       "        </table>\n",
       "        "
      ],
      "text/plain": [
       "<rpy2.robjects.vectors.StrVector object at 0x7f94918cbd40> [RTYPES.STRSXP]\n",
       "R classes: ('character',)\n",
       "['ENSG0000..., 'ENSG0000..., 'ENSG0000..., 'ENSG0000..., ..., 'ENSG0000..., 'ENSG0000..., 'ENSG0000..., 'ENSG0000...]"
      ]
     },
     "execution_count": 78,
     "metadata": {},
     "output_type": "execute_result"
    }
   ],
   "source": [
    "%R queryGeneName <- geneName$query\n",
    "%R -o queryGeneName\n",
    "%R queryGeneName\n",
    "#print(queryGeneName)"
   ]
  },
  {
   "cell_type": "code",
   "execution_count": 79,
   "metadata": {},
   "outputs": [],
   "source": [
    "%R exprsData <- exprs(data)\n",
    "%R cpmMat <- cpm.mat\n",
    "%R -o cpmMat\n",
    "%R exprsData <-  as.data.frame(exprsData)\n",
    "%R -o exprsData"
   ]
  },
  {
   "cell_type": "code",
   "execution_count": 80,
   "metadata": {},
   "outputs": [
    {
     "data": {
      "text/html": [
       "<div>\n",
       "<style scoped>\n",
       "    .dataframe tbody tr th:only-of-type {\n",
       "        vertical-align: middle;\n",
       "    }\n",
       "\n",
       "    .dataframe tbody tr th {\n",
       "        vertical-align: top;\n",
       "    }\n",
       "\n",
       "    .dataframe thead th {\n",
       "        text-align: right;\n",
       "    }\n",
       "</style>\n",
       "<table border=\"1\" class=\"dataframe\">\n",
       "  <thead>\n",
       "    <tr style=\"text-align: right;\">\n",
       "      <th></th>\n",
       "      <th>SRX014818and9</th>\n",
       "      <th>SRX014820and1</th>\n",
       "      <th>SRX014822and3</th>\n",
       "      <th>SRX014824and5</th>\n",
       "      <th>SRX014826and7</th>\n",
       "      <th>SRX014828and9</th>\n",
       "    </tr>\n",
       "  </thead>\n",
       "  <tbody>\n",
       "    <tr>\n",
       "      <th>ENSG00000080824</th>\n",
       "      <td>15</td>\n",
       "      <td>5</td>\n",
       "      <td>20</td>\n",
       "      <td>1</td>\n",
       "      <td>5</td>\n",
       "      <td>5</td>\n",
       "    </tr>\n",
       "  </tbody>\n",
       "</table>\n",
       "</div>"
      ],
      "text/plain": [
       "                 SRX014818and9  SRX014820and1  SRX014822and3  SRX014824and5  \\\n",
       "ENSG00000080824             15              5             20              1   \n",
       "\n",
       "                 SRX014826and7  SRX014828and9  \n",
       "ENSG00000080824              5              5  "
      ]
     },
     "execution_count": 80,
     "metadata": {},
     "output_type": "execute_result"
    }
   ],
   "source": [
    "exprsData\n",
    "%R exprsData[rownames(exprsData) == queryGeneName[23],]\n",
    "#%R rownames(exprsData)"
   ]
  },
  {
   "cell_type": "code",
   "execution_count": 70,
   "metadata": {},
   "outputs": [
    {
     "data": {
      "text/plain": [
       "array([279], dtype=int32)"
      ]
     },
     "execution_count": 70,
     "metadata": {},
     "output_type": "execute_result"
    }
   ],
   "source": []
  },
  {
   "cell_type": "code",
   "execution_count": 115,
   "metadata": {},
   "outputs": [],
   "source": [
    "%%R\n",
    "    dataFrameNew = 0\n",
    "    x = length(queryGeneName )\n",
    "    i = 1\n",
    "    while (i <= x ){\n",
    "    dataFrameNew = rbind(exprsData[rownames(exprsData) == queryGeneName[i],], dataFrameNew)\n",
    "    i = i +1\n",
    "    \n",
    "    }\n"
   ]
  },
  {
   "cell_type": "code",
   "execution_count": 117,
   "metadata": {},
   "outputs": [
    {
     "data": {
      "text/html": [
       "<div>\n",
       "<style scoped>\n",
       "    .dataframe tbody tr th:only-of-type {\n",
       "        vertical-align: middle;\n",
       "    }\n",
       "\n",
       "    .dataframe tbody tr th {\n",
       "        vertical-align: top;\n",
       "    }\n",
       "\n",
       "    .dataframe thead th {\n",
       "        text-align: right;\n",
       "    }\n",
       "</style>\n",
       "<table border=\"1\" class=\"dataframe\">\n",
       "  <thead>\n",
       "    <tr style=\"text-align: right;\">\n",
       "      <th></th>\n",
       "      <th>SRX014818and9</th>\n",
       "      <th>SRX014820and1</th>\n",
       "      <th>SRX014822and3</th>\n",
       "      <th>SRX014824and5</th>\n",
       "      <th>SRX014826and7</th>\n",
       "      <th>SRX014828and9</th>\n",
       "    </tr>\n",
       "  </thead>\n",
       "  <tbody>\n",
       "    <tr>\n",
       "      <th>ENSG00000244734</th>\n",
       "      <td>201.0</td>\n",
       "      <td>31.0</td>\n",
       "      <td>260.0</td>\n",
       "      <td>9.0</td>\n",
       "      <td>15.0</td>\n",
       "      <td>48.0</td>\n",
       "    </tr>\n",
       "    <tr>\n",
       "      <th>ENSG00000242574</th>\n",
       "      <td>17.0</td>\n",
       "      <td>22.0</td>\n",
       "      <td>16.0</td>\n",
       "      <td>63.0</td>\n",
       "      <td>44.0</td>\n",
       "      <td>27.0</td>\n",
       "    </tr>\n",
       "    <tr>\n",
       "      <th>ENSG00000242220</th>\n",
       "      <td>4.0</td>\n",
       "      <td>0.0</td>\n",
       "      <td>3.0</td>\n",
       "      <td>14.0</td>\n",
       "      <td>11.0</td>\n",
       "      <td>6.0</td>\n",
       "    </tr>\n",
       "    <tr>\n",
       "      <th>ENSG00000216588</th>\n",
       "      <td>13.0</td>\n",
       "      <td>11.0</td>\n",
       "      <td>8.0</td>\n",
       "      <td>13.0</td>\n",
       "      <td>25.0</td>\n",
       "      <td>81.0</td>\n",
       "    </tr>\n",
       "    <tr>\n",
       "      <th>ENSG00000215256</th>\n",
       "      <td>102.0</td>\n",
       "      <td>59.0</td>\n",
       "      <td>34.0</td>\n",
       "      <td>18.0</td>\n",
       "      <td>51.0</td>\n",
       "      <td>25.0</td>\n",
       "    </tr>\n",
       "    <tr>\n",
       "      <th>...</th>\n",
       "      <td>...</td>\n",
       "      <td>...</td>\n",
       "      <td>...</td>\n",
       "      <td>...</td>\n",
       "      <td>...</td>\n",
       "      <td>...</td>\n",
       "    </tr>\n",
       "    <tr>\n",
       "      <th>ENSG00000008517</th>\n",
       "      <td>64.0</td>\n",
       "      <td>104.0</td>\n",
       "      <td>245.0</td>\n",
       "      <td>652.0</td>\n",
       "      <td>99.0</td>\n",
       "      <td>422.0</td>\n",
       "    </tr>\n",
       "    <tr>\n",
       "      <th>ENSG00000008323</th>\n",
       "      <td>7.0</td>\n",
       "      <td>11.0</td>\n",
       "      <td>7.0</td>\n",
       "      <td>16.0</td>\n",
       "      <td>19.0</td>\n",
       "      <td>32.0</td>\n",
       "    </tr>\n",
       "    <tr>\n",
       "      <th>ENSG00000006210</th>\n",
       "      <td>90.0</td>\n",
       "      <td>133.0</td>\n",
       "      <td>162.0</td>\n",
       "      <td>229.0</td>\n",
       "      <td>381.0</td>\n",
       "      <td>218.0</td>\n",
       "    </tr>\n",
       "    <tr>\n",
       "      <th>ENSG00000003249</th>\n",
       "      <td>14.0</td>\n",
       "      <td>6.0</td>\n",
       "      <td>23.0</td>\n",
       "      <td>89.0</td>\n",
       "      <td>22.0</td>\n",
       "      <td>258.0</td>\n",
       "    </tr>\n",
       "    <tr>\n",
       "      <th>ENSG00000002834</th>\n",
       "      <td>22.0</td>\n",
       "      <td>29.0</td>\n",
       "      <td>21.0</td>\n",
       "      <td>59.0</td>\n",
       "      <td>57.0</td>\n",
       "      <td>34.0</td>\n",
       "    </tr>\n",
       "  </tbody>\n",
       "</table>\n",
       "<p>279 rows × 6 columns</p>\n",
       "</div>"
      ],
      "text/plain": [
       "                 SRX014818and9  SRX014820and1  SRX014822and3  SRX014824and5  \\\n",
       "ENSG00000244734          201.0           31.0          260.0            9.0   \n",
       "ENSG00000242574           17.0           22.0           16.0           63.0   \n",
       "ENSG00000242220            4.0            0.0            3.0           14.0   \n",
       "ENSG00000216588           13.0           11.0            8.0           13.0   \n",
       "ENSG00000215256          102.0           59.0           34.0           18.0   \n",
       "...                        ...            ...            ...            ...   \n",
       "ENSG00000008517           64.0          104.0          245.0          652.0   \n",
       "ENSG00000008323            7.0           11.0            7.0           16.0   \n",
       "ENSG00000006210           90.0          133.0          162.0          229.0   \n",
       "ENSG00000003249           14.0            6.0           23.0           89.0   \n",
       "ENSG00000002834           22.0           29.0           21.0           59.0   \n",
       "\n",
       "                 SRX014826and7  SRX014828and9  \n",
       "ENSG00000244734           15.0           48.0  \n",
       "ENSG00000242574           44.0           27.0  \n",
       "ENSG00000242220           11.0            6.0  \n",
       "ENSG00000216588           25.0           81.0  \n",
       "ENSG00000215256           51.0           25.0  \n",
       "...                        ...            ...  \n",
       "ENSG00000008517           99.0          422.0  \n",
       "ENSG00000008323           19.0           32.0  \n",
       "ENSG00000006210          381.0          218.0  \n",
       "ENSG00000003249           22.0          258.0  \n",
       "ENSG00000002834           57.0           34.0  \n",
       "\n",
       "[279 rows x 6 columns]"
      ]
     },
     "execution_count": 117,
     "metadata": {},
     "output_type": "execute_result"
    }
   ],
   "source": [
    "%R dataFrameNew = dataFrameNew[1:x,]\n",
    "%R dataFrameNew\n"
   ]
  },
  {
   "cell_type": "code",
   "execution_count": 118,
   "metadata": {},
   "outputs": [],
   "source": [
    "%R -o dataFrameNew\n",
    "#type(dataFrameNew)"
   ]
  },
  {
   "cell_type": "code",
   "execution_count": 160,
   "metadata": {},
   "outputs": [
    {
     "data": {
      "image/png": "[encoded data removed]",
      "text/plain": [
       "<Figure size 1000x1000 with 2 Axes>"
      ]
     },
     "metadata": {},
     "output_type": "display_data"
    }
   ],
   "source": [
    "dfHm = dataFrameNew\n",
    "\n",
    "\n",
    "visuz.gene_exp.hmap(df=dfHm, rowclus=False, colclus=False, dim=(10, 10), tickfont=(6, 4), show=True)"
   ]
  }
 ],
 "metadata": {
  "kernelspec": {
   "display_name": "Python 3",
   "language": "python",
   "name": "python3"
  },
  "language_info": {
   "codemirror_mode": {
    "name": "ipython",
    "version": 3
   },
   "file_extension": ".py",
   "mimetype": "text/x-python",
   "name": "python",
   "nbconvert_exporter": "python",
   "pygments_lexer": "ipython3",
   "version": "3.8.3"
  }
 },
 "nbformat": 4,
 "nbformat_minor": 4
}
